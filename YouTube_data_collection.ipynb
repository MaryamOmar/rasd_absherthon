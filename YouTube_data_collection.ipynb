{
 "cells": [
  {
   "cell_type": "markdown",
   "id": "b8e5851a",
   "metadata": {},
   "source": [
    "# Imports "
   ]
  },
  {
   "cell_type": "code",
   "execution_count": 2,
   "id": "f221ff42",
   "metadata": {},
   "outputs": [],
   "source": [
    "import yt_dlp\n",
    "from bs4 import BeautifulSoup\n",
    "import urllib.request\n",
    "import os\n"
   ]
  },
  {
   "cell_type": "markdown",
   "id": "3c00b7be",
   "metadata": {},
   "source": [
    "## Get URLS"
   ]
  },
  {
   "cell_type": "code",
   "execution_count": 14,
   "id": "d5c96085",
   "metadata": {},
   "outputs": [
    {
     "name": "stdout",
     "output_type": "stream",
     "text": [
      "What are you looking for?\n",
      "wrong-way drivers\n"
     ]
    }
   ],
   "source": [
    "def SearchVid(search):\n",
    "    responce = urllib.request.urlopen('https://www.youtube.com/results?search_query='+search)\n",
    "\n",
    "    soup = BeautifulSoup(responce)    \n",
    "    divs = soup.find_all(\"div\", { \"class\" : \"yt-lockup-content\"})\n",
    "\n",
    "\n",
    "    for i in divs:\n",
    "        href= i.find('a', href=True)\n",
    "        print(href.text,  \"\\nhttps://www.youtube.com\"+href['href'], '\\n')\n",
    "        with open(SearchString.replace(\"%20\", \"_\")+'.txt', 'a') as writer:\n",
    "            writer.write(\"https://www.youtube.com\"+href['href']+'\\n')\n",
    "\n",
    "print(\"What are you looking for?\")\n",
    "SearchString = input()\n",
    "SearchVid(SearchString.replace(\" \", \"%20\"))"
   ]
  },
  {
   "cell_type": "code",
   "execution_count": null,
   "id": "68d60ae4",
   "metadata": {},
   "outputs": [],
   "source": [
    "ydl_opts = {}\n",
    "with yt_dlp.YoutubeDL(ydl_opts) as ydl:\n",
    "    ydl.download(['https://www.youtube.com/results?search_query=drifting++dashcam&sp=EgIYAQ%253D%253D&'])"
   ]
  },
  {
   "cell_type": "markdown",
   "id": "73bd94fe",
   "metadata": {},
   "source": [
    "## Rename Files "
   ]
  },
  {
   "cell_type": "code",
   "execution_count": 3,
   "id": "de782f35",
   "metadata": {},
   "outputs": [],
   "source": [
    "from os import listdir\n",
    "from os.path import isfile, join"
   ]
  },
  {
   "cell_type": "code",
   "execution_count": 7,
   "id": "c9ff3968",
   "metadata": {},
   "outputs": [],
   "source": [
    "def rename(name,path):\n",
    "    mypath= path\n",
    "    onlyfiles = [f for f in listdir(mypath) if isfile(join(mypath, f))]\n",
    "    i=0\n",
    "    for f in onlyfiles:\n",
    "        old_file = os.path.join(mypath, str(f))\n",
    "        new_file = os.path.join(mypath,name+f'_{i}.mp4' )\n",
    "        os.rename(old_file, new_file)\n",
    "        i+=1\n",
    "        "
   ]
  },
  {
   "cell_type": "code",
   "execution_count": 8,
   "id": "006e4b76",
   "metadata": {},
   "outputs": [],
   "source": [
    "rename('wr_way','/Users/workplace/Documents/GitHub/rasd_absherthon/wrong-way')"
   ]
  },
  {
   "cell_type": "code",
   "execution_count": null,
   "id": "08bd1678",
   "metadata": {},
   "outputs": [],
   "source": []
  }
 ],
 "metadata": {
  "kernelspec": {
   "display_name": "Python 3",
   "language": "python",
   "name": "python3"
  },
  "language_info": {
   "codemirror_mode": {
    "name": "ipython",
    "version": 3
   },
   "file_extension": ".py",
   "mimetype": "text/x-python",
   "name": "python",
   "nbconvert_exporter": "python",
   "pygments_lexer": "ipython3",
   "version": "3.8.8"
  }
 },
 "nbformat": 4,
 "nbformat_minor": 5
}
