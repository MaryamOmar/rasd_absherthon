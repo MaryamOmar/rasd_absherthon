{
 "cells": [
  {
   "cell_type": "markdown",
   "id": "b8e5851a",
   "metadata": {},
   "source": [
    "# Imports "
   ]
  },
  {
   "cell_type": "code",
   "execution_count": 23,
   "id": "f221ff42",
   "metadata": {},
   "outputs": [],
   "source": [
    "import yt_dlp\n",
    "from bs4 import BeautifulSoup\n",
    "import urllib.request\n",
    "import os\n",
    "import numpy as np\n",
    "import cv2\n",
    "from time import time as timer\n",
    "import sys\n",
    "import pandas as pd"
   ]
  },
  {
   "cell_type": "markdown",
   "id": "3c00b7be",
   "metadata": {},
   "source": [
    "## Get URLS"
   ]
  },
  {
   "cell_type": "code",
   "execution_count": 14,
   "id": "d5c96085",
   "metadata": {},
   "outputs": [
    {
     "name": "stdout",
     "output_type": "stream",
     "text": [
      "What are you looking for?\n",
      "wrong-way drivers\n"
     ]
    }
   ],
   "source": [
    "def SearchVid(search):\n",
    "    responce = urllib.request.urlopen('https://www.youtube.com/results?search_query='+search)\n",
    "\n",
    "    soup = BeautifulSoup(responce)    \n",
    "    divs = soup.find_all(\"div\", { \"class\" : \"yt-lockup-content\"})\n",
    "\n",
    "\n",
    "    for i in divs:\n",
    "        href= i.find('a', href=True)\n",
    "        print(href.text,  \"\\nhttps://www.youtube.com\"+href['href'], '\\n')\n",
    "        with open(SearchString.replace(\"%20\", \"_\")+'.txt', 'a') as writer:\n",
    "            writer.write(\"https://www.youtube.com\"+href['href']+'\\n')\n",
    "\n",
    "print(\"What are you looking for?\")\n",
    "SearchString = input()\n",
    "SearchVid(SearchString.replace(\" \", \"%20\"))"
   ]
  },
  {
   "cell_type": "code",
   "execution_count": null,
   "id": "68d60ae4",
   "metadata": {},
   "outputs": [],
   "source": [
    "ydl_opts = {}\n",
    "with yt_dlp.YoutubeDL(ydl_opts) as ydl:\n",
    "    ydl.download(['https://www.youtube.com/results?search_query=drifting++dashcam&sp=EgIYAQ%253D%253D&'])"
   ]
  },
  {
   "cell_type": "markdown",
   "id": "73bd94fe",
   "metadata": {},
   "source": [
    "## Rename Files "
   ]
  },
  {
   "cell_type": "code",
   "execution_count": 12,
   "id": "de782f35",
   "metadata": {},
   "outputs": [],
   "source": [
    "from os import listdir\n",
    "from os.path import isfile, join"
   ]
  },
  {
   "cell_type": "code",
   "execution_count": 15,
   "id": "c9ff3968",
   "metadata": {},
   "outputs": [],
   "source": [
    "def rename(name,path):\n",
    "    mypath= path\n",
    "    onlyfiles = [f for f in listdir(mypath) if isfile(join(mypath, f))]\n",
    "    i=0\n",
    "    for f in onlyfiles:\n",
    "        old_file = os.path.join(mypath, str(f))\n",
    "        new_file = os.path.join(mypath,name+f'_{i}.mp4' )\n",
    "        os.rename(old_file, new_file)\n",
    "        i+=1\n",
    "        "
   ]
  },
  {
   "cell_type": "code",
   "execution_count": 21,
   "id": "006e4b76",
   "metadata": {},
   "outputs": [],
   "source": [
    "rename('wr_way','/Users/workplace/Documents/GitHub/data/wr_way')"
   ]
  },
  {
   "cell_type": "markdown",
   "id": "0a36a5e8",
   "metadata": {},
   "source": [
    "## Extract Frames "
   ]
  },
  {
   "cell_type": "code",
   "execution_count": 29,
   "id": "3d0f1440",
   "metadata": {},
   "outputs": [],
   "source": [
    "# setup paths\n",
    "FPS_OUTPUT = 2\n",
    "pwd = '/Users/workplace/Documents/GitHub/data/'\n",
    "path_videos = pwd + 'wr_way/'\n",
    "path_data = pwd + 'data/'"
   ]
  },
  {
   "cell_type": "code",
   "execution_count": null,
   "id": "28b9a9ca",
   "metadata": {},
   "outputs": [],
   "source": [
    "# read video paths\n",
    "paths = os.listdir(path_videos)\n",
    "paths = [path_videos + v for v in paths if v != '.DS_Store']\n",
    "paths"
   ]
  },
  {
   "cell_type": "code",
   "execution_count": null,
   "id": "c0dc7960",
   "metadata": {},
   "outputs": [],
   "source": [
    "# create data folder\n",
    "if not os.path.exists(path_data):\n",
    "    os.makedirs(path_data)\n",
    "\n",
    "for c, path in enumerate(paths):\n",
    "\n",
    "    # extract video filename from path\n",
    "    filename = path.split(\"/\")[-1].split(\".\")[0]\n",
    "    print(filename)\n",
    "\n",
    "    if not os.path.exists(path_data + filename):\n",
    "\n",
    "        print(\"Extracting frames from video {}/{}: {}\".format(c+1,len(paths),filename))\n",
    "\n",
    "        # create directory for this video's frames\n",
    "        os.makedirs(path_data + filename)\n",
    "\n",
    "        # open video\n",
    "        vidcap = cv2.VideoCapture(path)\n",
    "\n",
    "        # get fps\n",
    "        print(\"video FPS {}\".format(vidcap.get(cv2.CAP_PROP_FPS)))\n",
    "        fps = vidcap.get(cv2.CAP_PROP_FPS)\n",
    "        fps_savecheck = fps/FPS_OUTPUT\n",
    "\n",
    "        # read frames and save to images at fps_save\n",
    "        success,image = vidcap.read()\n",
    "        count_frame = 0\n",
    "        count_saved = 0\n",
    "        success = True\n",
    "\n",
    "        fps_savecheck_progress = 0\n",
    "\n",
    "        # only extract a subset of frames\n",
    "        while success and count_saved<=100:\n",
    "        # extract all frames\n",
    "            # save frame at desired framerate, indexing filename from 0\n",
    "            if count_frame > fps_savecheck_progress:\n",
    "                cv2.imwrite(path_data + filename + '/' + filename + \"_%06d.jpg\" % count_saved, image)\n",
    "                fps_savecheck_progress += fps_savecheck\n",
    "                count_saved += 1\n",
    "            success,image = vidcap.read()\n",
    "            count_frame += 1\n",
    "\n",
    "        # close video file\n",
    "        vidcap.release()\n",
    "        \n",
    "    else:\n",
    "        print(\"Frames already extracted from video {}/{}\".format(c+1,len(paths)))\n",
    "\n",
    "# Done\n",
    "print(\"Done extracting frames from {} videos\".format(len(paths)))\n"
   ]
  },
  {
   "cell_type": "code",
   "execution_count": null,
   "id": "fc366b51",
   "metadata": {},
   "outputs": [],
   "source": []
  }
 ],
 "metadata": {
  "kernelspec": {
   "display_name": "Python 3",
   "language": "python",
   "name": "python3"
  },
  "language_info": {
   "codemirror_mode": {
    "name": "ipython",
    "version": 3
   },
   "file_extension": ".py",
   "mimetype": "text/x-python",
   "name": "python",
   "nbconvert_exporter": "python",
   "pygments_lexer": "ipython3",
   "version": "3.8.8"
  }
 },
 "nbformat": 4,
 "nbformat_minor": 5
}
